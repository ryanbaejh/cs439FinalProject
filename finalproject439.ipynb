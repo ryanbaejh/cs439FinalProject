{
 "cells": [
  {
   "cell_type": "code",
   "execution_count": 1,
   "metadata": {
    "id": "G9lKmuyxROfa"
   },
   "outputs": [],
   "source": [
    "# All imports go here\n",
    "\n",
    "import pandas as pd\n",
    "import numpy as np"
   ]
  },
  {
   "cell_type": "code",
   "execution_count": 2,
   "metadata": {},
   "outputs": [
    {
     "name": "stdout",
     "output_type": "stream",
     "text": [
      "  period_begin  period_end  period_duration region_type  region_type_id  \\\n",
      "0   2015-06-01  2015-06-30               30       place               6   \n",
      "1   2021-07-01  2021-07-31               30       place               6   \n",
      "2   2014-02-01  2014-02-28               30       place               6   \n",
      "3   2017-09-01  2017-09-30               30       place               6   \n",
      "4   2019-01-01  2019-01-31               30       place               6   \n",
      "\n",
      "   table_id is_seasonally_adjusted         region       city      state  ...  \\\n",
      "0     12602                      f      Moore, OK      Moore   Oklahoma  ...   \n",
      "1     13558                      f       Nixa, MO       Nixa   Missouri  ...   \n",
      "2     29515                      f     Steger, IL     Steger   Illinois  ...   \n",
      "3     15508                      f   Rockport, AR   Rockport   Arkansas  ...   \n",
      "4      6769                      f  Footville, WI  Footville  Wisconsin  ...   \n",
      "\n",
      "  sold_above_list_yoy price_drops  price_drops_mom  price_drops_yoy  \\\n",
      "0            0.005273    0.259375         0.071875              NaN   \n",
      "1                 NaN         NaN              NaN              NaN   \n",
      "2            0.022727    0.203704        -0.117725         0.007625   \n",
      "3                 NaN         NaN              NaN              NaN   \n",
      "4                 NaN         NaN              NaN              NaN   \n",
      "\n",
      "   off_market_in_two_weeks  off_market_in_two_weeks_mom  \\\n",
      "0                 0.330508                    -0.002825   \n",
      "1                 0.000000                          NaN   \n",
      "2                 0.076923                     0.076923   \n",
      "3                 1.000000                          NaN   \n",
      "4                 0.500000                          NaN   \n",
      "\n",
      "   off_market_in_two_weeks_yoy  parent_metro_region  \\\n",
      "0                     0.322244    Oklahoma City, OK   \n",
      "1                          NaN      Springfield, MO   \n",
      "2                    -0.048077          Chicago, IL   \n",
      "3                          NaN          Malvern, AR   \n",
      "4                          NaN       Janesville, WI   \n",
      "\n",
      "   parent_metro_region_metro_code         last_updated  \n",
      "0                         36420.0  2025-03-10 14:20:36  \n",
      "1                         44180.0  2025-03-10 14:20:36  \n",
      "2                         16984.0  2025-03-10 14:20:36  \n",
      "3                         31680.0  2025-03-10 14:20:36  \n",
      "4                         27500.0  2025-03-10 14:20:36  \n",
      "\n",
      "[5 rows x 58 columns]\n"
     ]
    }
   ],
   "source": [
    "# Test the sample df\n",
    "\n",
    "city_market_df = pd.read_csv('sample_file.csv')\n",
    "\n",
    "print(city_market_df.head())"
   ]
  },
  {
   "cell_type": "code",
   "execution_count": 3,
   "metadata": {},
   "outputs": [],
   "source": [
    "# Make 'period_begin' datetime object\n",
    "\n",
    "city_market_df['period_begin'] = pd.to_datetime(city_market_df['period_begin'])"
   ]
  },
  {
   "cell_type": "code",
   "execution_count": 4,
   "metadata": {},
   "outputs": [],
   "source": [
    "# Make a new col called 'Month' and use 'period_begin'\n",
    "\n",
    "# List with month names\n",
    "months = city_market_df['period_begin'].dt.month_name().values\n",
    "\n",
    "# Test if it works\n",
    "#print(months)\n",
    "#print(len(months))\n",
    "\n",
    "city_market_df['month'] = months"
   ]
  },
  {
   "cell_type": "code",
   "execution_count": null,
   "metadata": {},
   "outputs": [
    {
     "name": "stdout",
     "output_type": "stream",
     "text": [
      "       month period_begin  period_end  period_duration region_type  \\\n",
      "0       June   2015-06-01  2015-06-30               30       place   \n",
      "1       July   2021-07-01  2021-07-31               30       place   \n",
      "2   February   2014-02-01  2014-02-28               30       place   \n",
      "3  September   2017-09-01  2017-09-30               30       place   \n",
      "4    January   2019-01-01  2019-01-31               30       place   \n",
      "\n",
      "   region_type_id  table_id is_seasonally_adjusted         region       city  \\\n",
      "0               6     12602                      f      Moore, OK      Moore   \n",
      "1               6     13558                      f       Nixa, MO       Nixa   \n",
      "2               6     29515                      f     Steger, IL     Steger   \n",
      "3               6     15508                      f   Rockport, AR   Rockport   \n",
      "4               6      6769                      f  Footville, WI  Footville   \n",
      "\n",
      "   ... sold_above_list_yoy price_drops price_drops_mom  price_drops_yoy  \\\n",
      "0  ...            0.005273    0.259375        0.071875              NaN   \n",
      "1  ...                 NaN         NaN             NaN              NaN   \n",
      "2  ...            0.022727    0.203704       -0.117725         0.007625   \n",
      "3  ...                 NaN         NaN             NaN              NaN   \n",
      "4  ...                 NaN         NaN             NaN              NaN   \n",
      "\n",
      "   off_market_in_two_weeks  off_market_in_two_weeks_mom  \\\n",
      "0                 0.330508                    -0.002825   \n",
      "1                 0.000000                          NaN   \n",
      "2                 0.076923                     0.076923   \n",
      "3                 1.000000                          NaN   \n",
      "4                 0.500000                          NaN   \n",
      "\n",
      "   off_market_in_two_weeks_yoy  parent_metro_region  \\\n",
      "0                     0.322244    Oklahoma City, OK   \n",
      "1                          NaN      Springfield, MO   \n",
      "2                    -0.048077          Chicago, IL   \n",
      "3                          NaN          Malvern, AR   \n",
      "4                          NaN       Janesville, WI   \n",
      "\n",
      "   parent_metro_region_metro_code         last_updated  \n",
      "0                         36420.0  2025-03-10 14:20:36  \n",
      "1                         44180.0  2025-03-10 14:20:36  \n",
      "2                         16984.0  2025-03-10 14:20:36  \n",
      "3                         31680.0  2025-03-10 14:20:36  \n",
      "4                         27500.0  2025-03-10 14:20:36  \n",
      "\n",
      "[5 rows x 59 columns]\n"
     ]
    }
   ],
   "source": [
    "# Move 'month' to the front DONT DO THIS BECAUSE U DO IT LATER\n",
    "\n",
    "#cols = ['month'] + [col for col in city_market_df.columns if col != 'month']\n",
    "#city_market_df = city_market_df[cols]\n",
    "\n",
    "#print(city_market_df.head())"
   ]
  },
  {
   "cell_type": "code",
   "execution_count": 5,
   "metadata": {},
   "outputs": [],
   "source": [
    "# Create new col 'year' with 'period_begin'\n",
    "\n",
    "years = city_market_df['period_begin'].dt.year.values\n",
    "#print(years)\n",
    "\n",
    "city_market_df['year'] = years\n",
    "#print(city_market_df['year'])\n",
    "\n",
    "# Move year after month\n",
    "\n",
    "cols = ['month'] + ['year'] + [col for col in city_market_df.columns if col != 'month' or 'year']\n",
    "city_market_df = city_market_df[cols]\n",
    "\n",
    "#print(city_market_df.iloc[982])"
   ]
  },
  {
   "cell_type": "code",
   "execution_count": 6,
   "metadata": {},
   "outputs": [
    {
     "name": "stdout",
     "output_type": "stream",
     "text": [
      "       month  year period_begin  period_end  period_duration region_type  \\\n",
      "0       June  2015   2015-06-01  2015-06-30               30       place   \n",
      "1       July  2021   2021-07-01  2021-07-31               30       place   \n",
      "2   February  2014   2014-02-01  2014-02-28               30       place   \n",
      "3  September  2017   2017-09-01  2017-09-30               30       place   \n",
      "4    January  2019   2019-01-01  2019-01-31               30       place   \n",
      "\n",
      "   region_type_id  table_id is_seasonally_adjusted         region  ...  \\\n",
      "0               6     12602                      f      Moore, OK  ...   \n",
      "1               6     13558                      f       Nixa, MO  ...   \n",
      "2               6     29515                      f     Steger, IL  ...   \n",
      "3               6     15508                      f   Rockport, AR  ...   \n",
      "4               6      6769                      f  Footville, WI  ...   \n",
      "\n",
      "  median_dom avg_sale_to_list sold_above_list price_drops  \\\n",
      "0       28.0         0.980668        0.182692    0.259375   \n",
      "1       73.0              NaN        0.000000         NaN   \n",
      "2       50.0         0.967177        0.272727    0.203704   \n",
      "3       26.0         1.000000        0.000000         NaN   \n",
      "4      119.0         0.938086        0.000000         NaN   \n",
      "\n",
      "   off_market_in_two_weeks  parent_metro_region  \\\n",
      "0                 0.330508    Oklahoma City, OK   \n",
      "1                 0.000000      Springfield, MO   \n",
      "2                 0.076923          Chicago, IL   \n",
      "3                 1.000000          Malvern, AR   \n",
      "4                 0.500000       Janesville, WI   \n",
      "\n",
      "   parent_metro_region_metro_code         last_updated      month  year  \n",
      "0                         36420.0  2025-03-10 14:20:36       June  2015  \n",
      "1                         44180.0  2025-03-10 14:20:36       July  2021  \n",
      "2                         16984.0  2025-03-10 14:20:36   February  2014  \n",
      "3                         31680.0  2025-03-10 14:20:36  September  2017  \n",
      "4                         27500.0  2025-03-10 14:20:36    January  2019  \n",
      "\n",
      "[5 rows x 34 columns]\n"
     ]
    }
   ],
   "source": [
    "# Start cleaning the df\n",
    "\n",
    "city_market_df = city_market_df.drop(columns=[\n",
    "    col for col in city_market_df.columns if 'mom' in col.lower() or 'yoy' in col.lower()])\n",
    "\n",
    "print(city_market_df.head())"
   ]
  },
  {
   "cell_type": "code",
   "execution_count": 7,
   "metadata": {},
   "outputs": [
    {
     "name": "stdout",
     "output_type": "stream",
     "text": [
      "Index(['month', 'year', 'period_begin', 'period_end', 'period_duration',\n",
      "       'region_type', 'region_type_id', 'table_id', 'is_seasonally_adjusted',\n",
      "       'region', 'city', 'state', 'state_code', 'property_type',\n",
      "       'property_type_id', 'median_sale_price', 'median_list_price',\n",
      "       'median_ppsf', 'median_list_ppsf', 'homes_sold', 'pending_sales',\n",
      "       'new_listings', 'inventory', 'months_of_supply', 'median_dom',\n",
      "       'avg_sale_to_list', 'sold_above_list', 'price_drops',\n",
      "       'off_market_in_two_weeks', 'parent_metro_region',\n",
      "       'parent_metro_region_metro_code', 'last_updated', 'month', 'year'],\n",
      "      dtype='object')\n"
     ]
    }
   ],
   "source": [
    "# Check remaining cols\n",
    "\n",
    "print(city_market_df.columns)"
   ]
  },
  {
   "cell_type": "code",
   "execution_count": 8,
   "metadata": {},
   "outputs": [
    {
     "name": "stdout",
     "output_type": "stream",
     "text": [
      "Index(['month', 'year', 'region', 'city', 'state', 'state_code',\n",
      "       'property_type', 'property_type_id', 'median_sale_price',\n",
      "       'median_list_price', 'homes_sold', 'pending_sales', 'new_listings',\n",
      "       'inventory', 'months_of_supply', 'median_dom', 'avg_sale_to_list',\n",
      "       'sold_above_list', 'price_drops', 'parent_metro_region',\n",
      "       'parent_metro_region_metro_code'],\n",
      "      dtype='object')\n"
     ]
    }
   ],
   "source": [
    "# Drop some more~!\n",
    "\n",
    "city_market_df = city_market_df.drop(columns=['period_begin','period_end','period_duration','region_type',\n",
    "                             'region_type_id','table_id','is_seasonally_adjusted','median_ppsf', \n",
    "                             'median_list_ppsf','off_market_in_two_weeks','last_updated'])\n",
    "\n",
    "city_market_df = city_market_df.iloc[:, :-2]  # Drop the last two columns\n",
    "\n",
    "print(city_market_df.columns)"
   ]
  },
  {
   "cell_type": "code",
   "execution_count": 9,
   "metadata": {},
   "outputs": [],
   "source": [
    "city_market_df.to_csv('semi-clean_sample_file.csv', index=False)"
   ]
  },
  {
   "cell_type": "code",
   "execution_count": 13,
   "metadata": {},
   "outputs": [
    {
     "name": "stdout",
     "output_type": "stream",
     "text": [
      "     month  year    region  city     state state_code  \\\n",
      "1     July  2021  Nixa, MO  Nixa  Missouri         MO   \n",
      "2486  July  2015  Nixa, MO  Nixa  Missouri         MO   \n",
      "3520  June  2022  Nixa, MO  Nixa  Missouri         MO   \n",
      "\n",
      "                property_type  property_type_id  median_sale_price  \\\n",
      "1     Multi-Family (2-4 Unit)                 4           249000.0   \n",
      "2486          All Residential                -1           156900.0   \n",
      "3520  Multi-Family (2-4 Unit)                 4           249900.0   \n",
      "\n",
      "      median_list_price  ...  pending_sales  new_listings  inventory  \\\n",
      "1                   NaN  ...            1.0           NaN        NaN   \n",
      "2486           150950.0  ...           62.0          58.0      165.0   \n",
      "3520                NaN  ...            3.0           NaN        1.0   \n",
      "\n",
      "      months_of_supply  median_dom  avg_sale_to_list  sold_above_list  \\\n",
      "1                  NaN        73.0               NaN              0.0   \n",
      "2486               2.7        84.0               NaN              0.0   \n",
      "3520               1.0        42.0               NaN              0.0   \n",
      "\n",
      "      price_drops  parent_metro_region parent_metro_region_metro_code  \n",
      "1             NaN      Springfield, MO                        44180.0  \n",
      "2486          NaN      Springfield, MO                        44180.0  \n",
      "3520          NaN      Springfield, MO                        44180.0  \n",
      "\n",
      "[3 rows x 21 columns]\n"
     ]
    }
   ],
   "source": [
    "semi_clean_df = pd.read_csv('semi-clean_sample_file.csv')\n",
    "print(semi_clean_df[semi_clean_df['city'] == 'Nixa'])"
   ]
  }
 ],
 "metadata": {
  "colab": {
   "authorship_tag": "ABX9TyO5K/ZT+93S/mjoFIEl+1Yj",
   "provenance": []
  },
  "kernelspec": {
   "display_name": ".venv",
   "language": "python",
   "name": "python3"
  },
  "language_info": {
   "codemirror_mode": {
    "name": "ipython",
    "version": 3
   },
   "file_extension": ".py",
   "mimetype": "text/x-python",
   "name": "python",
   "nbconvert_exporter": "python",
   "pygments_lexer": "ipython3",
   "version": "3.13.3"
  }
 },
 "nbformat": 4,
 "nbformat_minor": 0
}
